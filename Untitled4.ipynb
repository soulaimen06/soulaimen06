{
  "nbformat": 4,
  "nbformat_minor": 0,
  "metadata": {
    "colab": {
      "name": "Untitled4.ipynb",
      "provenance": []
    },
    "kernelspec": {
      "name": "python3",
      "display_name": "Python 3"
    },
    "language_info": {
      "name": "python"
    }
  },
  "cells": [
    {
      "cell_type": "code",
      "metadata": {
        "colab": {
          "base_uri": "https://localhost:8080/"
        },
        "id": "mjXqtHhalZD2",
        "outputId": "fb7b33cb-6c8b-46a8-8414-42a1928197ca"
      },
      "source": [
        "def max_of_two( x, y ):\n",
        "    if x > y:\n",
        "        return x\n",
        "    return y\n",
        "def max_of_three( x, y, z ):\n",
        "    return max_of_two( x, max_of_two( y, z ) )\n",
        "print(max_of_three(19, 35, 20))"
      ],
      "execution_count": 23,
      "outputs": [
        {
          "output_type": "stream",
          "text": [
            "35\n"
          ],
          "name": "stdout"
        }
      ]
    },
    {
      "cell_type": "code",
      "metadata": {
        "colab": {
          "base_uri": "https://localhost:8080/"
        },
        "id": "CGTmsPzO8Jqt",
        "outputId": "75f9a4a9-b704-487c-9064-42ffec825129"
      },
      "source": [
        "def calculation(a, b):\n",
        "    return a+b,a-b\n",
        "\n",
        "res = calculation(40, 10)\n",
        "print(res)"
      ],
      "execution_count": 12,
      "outputs": [
        {
          "output_type": "stream",
          "text": [
            "(50, 30)\n"
          ],
          "name": "stdout"
        }
      ]
    },
    {
      "cell_type": "code",
      "metadata": {
        "colab": {
          "base_uri": "https://localhost:8080/"
        },
        "id": "TYRXfo_mcgf7",
        "outputId": "c39fc546-4396-4c97-d4ce-346dadb8db2f"
      },
      "source": [
        "lst=[]\n",
        "num=int(input('how many numbers:'))\n",
        "for n in range (num):\n",
        "    numbers=int(input('enter number'))\n",
        "    lst.append(numbers)\n",
        "print(\"sum of element in given list is:\",sum(lst))"
      ],
      "execution_count": 59,
      "outputs": [
        {
          "output_type": "stream",
          "text": [
            "how many numbers:3\n",
            "enter number2325\n",
            "enter number23523\n",
            "enter number2532\n",
            "sum of element in given list is: 28380\n"
          ],
          "name": "stdout"
        }
      ]
    },
    {
      "cell_type": "code",
      "metadata": {
        "colab": {
          "base_uri": "https://localhost:8080/"
        },
        "id": "tXyl9X8yHDbo",
        "outputId": "2af0f8d4-6414-4996-9ba9-423fb8198248"
      },
      "source": [
        "items=[n for n in input().split('-')]\n",
        "items.sort()\n",
        "print('-'.join(items))"
      ],
      "execution_count": 61,
      "outputs": [
        {
          "output_type": "stream",
          "text": [
            "green-red-yellow-black-white\n",
            "black-green-red-white-yellow\n"
          ],
          "name": "stdout"
        }
      ]
    },
    {
      "cell_type": "code",
      "metadata": {
        "colab": {
          "base_uri": "https://localhost:8080/"
        },
        "id": "fo4_olB3HDil",
        "outputId": "e576260a-b0a6-42b1-fe78-27135ac77b83"
      },
      "source": [
        "import math\n",
        "c=50\n",
        "h=30\n",
        "value= []\n",
        "items=[x for x in input().split(',')]\n",
        "for d in items:\n",
        "     value.append(str(int(round(math.sqrt(2*c*float(d)/h)))))\n",
        "     \n",
        "print(','.join(value))\n"
      ],
      "execution_count": 43,
      "outputs": [
        {
          "output_type": "stream",
          "text": [
            "100,150,180\n",
            "18,22,24\n"
          ],
          "name": "stdout"
        }
      ]
    }
  ]
}