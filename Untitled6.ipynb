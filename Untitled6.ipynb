{
  "nbformat": 4,
  "nbformat_minor": 0,
  "metadata": {
    "colab": {
      "name": "Untitled6.ipynb",
      "provenance": []
    },
    "kernelspec": {
      "name": "python3",
      "display_name": "Python 3"
    },
    "language_info": {
      "name": "python"
    }
  },
  "cells": [
    {
      "cell_type": "code",
      "metadata": {
        "colab": {
          "base_uri": "https://localhost:8080/"
        },
        "id": "Qa4AvBszqUEP",
        "outputId": "31ae2237-1cb7-4957-9a1b-37fbe9b87329"
      },
      "source": [
        "from array import *\n",
        "array_num = array('i', [1, 3, 5, 3, 7, 1, 9, 3])\n",
        "print(\"Original array: \"+str(array_num))\n",
        "num_list = array_num.tolist()\n",
        "print(\"Convert the said array to an ordinary list with the same items:\")\n",
        "print(num_list)"
      ],
      "execution_count": 8,
      "outputs": [
        {
          "output_type": "stream",
          "text": [
            "Original array: array('i', [1, 3, 5, 3, 7, 1, 9, 3])\n",
            "Convert the said array to an ordinary list with the same items:\n",
            "[1, 3, 5, 3, 7, 1, 9, 3]\n"
          ],
          "name": "stdout"
        }
      ]
    },
    {
      "cell_type": "code",
      "metadata": {
        "colab": {
          "base_uri": "https://localhost:8080/"
        },
        "id": "PoO3fXDXNJ9-",
        "outputId": "88116ae2-48bb-48d4-8d8d-b2975f3d6d3f"
      },
      "source": [
        "import numpy as np\n",
        "a_array = np.array([[5, 6, 5],\n",
        "                    [3, 4, 2],\n",
        "                    [1, 5, 7]])\n",
        "print(\"Numpy Matrix is:\")\n",
        "print(a_array)\n",
        "trace = np.trace(a_array)\n",
        "print(\"Trace diagonal of given :\")\n",
        "print(trace)"
      ],
      "execution_count": 49,
      "outputs": [
        {
          "output_type": "stream",
          "text": [
            "Numpy Matrix is:\n",
            "[[5 6 5]\n",
            " [3 4 2]\n",
            " [1 5 7]]\n",
            "Trace diagonal of given :\n",
            "16\n"
          ],
          "name": "stdout"
        }
      ]
    },
    {
      "cell_type": "code",
      "metadata": {
        "colab": {
          "base_uri": "https://localhost:8080/"
        },
        "id": "AEtnNRu-mYql",
        "outputId": "97546c39-0df0-4b9d-f447-138b1d2277ec"
      },
      "source": [
        "import numpy as np\n",
        "x=3\n",
        "a=np.array([[1,2],[3,5],[4,7],[6,7]])\n",
        "print(a[a>x])"
      ],
      "execution_count": 2,
      "outputs": [
        {
          "output_type": "stream",
          "text": [
            "[5 4 7 6 7]\n"
          ],
          "name": "stdout"
        }
      ]
    },
    {
      "cell_type": "code",
      "metadata": {
        "colab": {
          "base_uri": "https://localhost:8080/"
        },
        "id": "0pWIm8aAH7O2",
        "outputId": "b24f4647-414e-41d8-f29b-de5fb988cabb"
      },
      "source": [
        "import numpy as np\n",
        "a=np.array([[0,3,5],\n",
        "            [6,7,4],\n",
        "            [2,1,3]])\n",
        "b=np.array([[5,4,3],\n",
        "            [1,7,8],\n",
        "            [2,9,2]])\n",
        "c=a+b\n",
        "print(c)"
      ],
      "execution_count": 7,
      "outputs": [
        {
          "output_type": "stream",
          "text": [
            "[[ 5  7  8]\n",
            " [ 7 14 12]\n",
            " [ 4 10  5]]\n"
          ],
          "name": "stdout"
        }
      ]
    },
    {
      "cell_type": "code",
      "metadata": {
        "colab": {
          "base_uri": "https://localhost:8080/"
        },
        "id": "TwcMEb4RqRx-",
        "outputId": "af53505d-1731-498f-9eea-a1cc9e11659f"
      },
      "source": [
        "import numpy as np\n",
        "a=np.array([[5,6,7],\n",
        "           [7,9,4],\n",
        "           [3,6,4]])\n",
        "c=a.mean()\n",
        "t=a-c\n",
        "print(c)\n",
        "print(t)\n",
        "\n"
      ],
      "execution_count": 3,
      "outputs": [
        {
          "output_type": "stream",
          "text": [
            "5.666666666666667\n",
            "[[-0.66666667  0.33333333  1.33333333]\n",
            " [ 1.33333333  3.33333333 -1.66666667]\n",
            " [-2.66666667  0.33333333 -1.66666667]]\n"
          ],
          "name": "stdout"
        }
      ]
    }
  ]
}