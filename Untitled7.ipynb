{
  "nbformat": 4,
  "nbformat_minor": 0,
  "metadata": {
    "colab": {
      "name": "Untitled7",
      "provenance": []
    },
    "kernelspec": {
      "name": "python3",
      "display_name": "Python 3"
    },
    "language_info": {
      "name": "python"
    }
  },
  "cells": [
    {
      "cell_type": "code",
      "metadata": {
        "colab": {
          "base_uri": "https://localhost:8080/"
        },
        "id": "Smqdtt4kQEYn",
        "outputId": "5cffe7ae-419f-4a06-f646-11f69e58f4ac"
      },
      "source": [
        "import pandas as pd \n",
        "import numpy as np\n",
        "exam_data = {'name': ['Anastasia', 'Dima', 'Katherine', 'James', 'Emily', 'Michael', 'Matthew', 'Laura', 'Kevin', 'Jonas'],\n",
        "'score': [12.5, 9, 16.5, np.nan, 9, 20, 14.5, np.nan, 8, 19],\n",
        "'attempts': [1, 3, 2, 3, 2, 3, 1, 1, 2, 1],\n",
        "'qualify': ['yes', 'no', 'yes', 'no', 'no', 'yes', 'yes', 'no', 'no', 'yes']}\n",
        "labels = ['a', 'b', 'c', 'd', 'e', 'f', 'g', 'h', 'i', 'j']\n",
        "exam_data = pd.DataFrame(exam_data , index=labels)\n",
        "exam_data=exam_data.dropna()\n",
        "(exam_data[['name', 'score']])\n",
        "exam_data.loc['k'] = ['suresh', 15.5, 1, \"yes\"]\n",
        "exam_data.pop('attempts')\n",
        "p={'success':[]}\n",
        "exam_data_pro=pd.DataFrame(p)\n",
        "exam_data_promax=exam_data.append(exam_data_pro,ignore_index=False)\n",
        "for value in exam_data['score']:\n",
        "  if value>10:\n",
        "    p['success'].append(1)\n",
        "  else:\n",
        "    p['success'].append(0)\n",
        "exam_data_promax[\"success\"]=p['success']\n",
        "exam_data_promax.to_csv('my_data.csv',index=False)\n",
        "new=pd.read_csv('my_data.csv')\n",
        "print(new)"
      ],
      "execution_count": 29,
      "outputs": [
        {
          "output_type": "stream",
          "text": [
            "        name  score qualify  success\n",
            "0  Anastasia   12.5     yes        1\n",
            "1       Dima    9.0      no        0\n",
            "2  Katherine   16.5     yes        1\n",
            "3      Emily    9.0      no        0\n",
            "4    Michael   20.0     yes        1\n",
            "5    Matthew   14.5     yes        1\n",
            "6      Kevin    8.0      no        0\n",
            "7      Jonas   19.0     yes        1\n",
            "8     suresh   15.5     yes        1\n"
          ],
          "name": "stdout"
        }
      ]
    }
  ]
}