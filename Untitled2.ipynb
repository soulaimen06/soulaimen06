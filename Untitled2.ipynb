{
  "nbformat": 4,
  "nbformat_minor": 0,
  "metadata": {
    "colab": {
      "name": "Untitled2.ipynb",
      "provenance": []
    },
    "kernelspec": {
      "name": "python3",
      "display_name": "Python 3"
    },
    "language_info": {
      "name": "python"
    }
  },
  "cells": [
    {
      "cell_type": "code",
      "metadata": {
        "id": "O9d-4Z6VtTtw",
        "colab": {
          "base_uri": "https://localhost:8080/"
        },
        "outputId": "2b69d54d-8ce4-4f75-fc5f-c633ed0dc0f4"
      },
      "source": [
        "str1=\" soulaimen\"\n",
        "str2=\"acer\"\n",
        "print(\"str1+str2=\",str2+str1)"
      ],
      "execution_count": null,
      "outputs": [
        {
          "output_type": "stream",
          "text": [
            "str1+str2= acer soulaimen\n"
          ],
          "name": "stdout"
        }
      ]
    },
    {
      "cell_type": "code",
      "metadata": {
        "colab": {
          "base_uri": "https://localhost:8080/"
        },
        "id": "L6CAgFohP8Sb",
        "outputId": "4e598be5-c597-4ad6-c136-b47c01cc79e9"
      },
      "source": [
        "n=5\n",
        "nn=55\n",
        "nnn=555\n",
        "print(n+nn+nnn)"
      ],
      "execution_count": 2,
      "outputs": [
        {
          "output_type": "stream",
          "text": [
            "615\n"
          ],
          "name": "stdout"
        }
      ]
    },
    {
      "cell_type": "code",
      "metadata": {
        "colab": {
          "base_uri": "https://localhost:8080/"
        },
        "id": "st8swzyahR23",
        "outputId": "60f7896c-5c60-49e1-c898-279e3585a18d"
      },
      "source": [
        "num = int(input(\"Enter a number\"))\n",
        "n=num % 2\n",
        "if n> 0:\n",
        "    print(\"This is an odd number\")\n",
        "else:\n",
        "    print(\"This is an even number\")"
      ],
      "execution_count": null,
      "outputs": [
        {
          "output_type": "stream",
          "text": [
            "Enter a number545454545544\n",
            "This is an even number\n"
          ],
          "name": "stdout"
        }
      ]
    },
    {
      "cell_type": "code",
      "metadata": {
        "colab": {
          "base_uri": "https://localhost:8080/"
        },
        "id": "9zjtHKuqh9Xy",
        "outputId": "c2c48a47-9b37-4600-9148-a29d1d94ff44"
      },
      "source": [
        "for i in range(2000,3201) :\n",
        "  if i%7==0 and i%5!=0 :\n",
        "    print(i,end=\" \")"
      ],
      "execution_count": null,
      "outputs": [
        {
          "output_type": "stream",
          "text": [
            "2002 2009 2016 2023 2037 2044 2051 2058 2072 2079 2086 2093 2107 2114 2121 2128 2142 2149 2156 2163 2177 2184 2191 2198 2212 2219 2226 2233 2247 2254 2261 2268 2282 2289 2296 2303 2317 2324 2331 2338 2352 2359 2366 2373 2387 2394 2401 2408 2422 2429 2436 2443 2457 2464 2471 2478 2492 2499 2506 2513 2527 2534 2541 2548 2562 2569 2576 2583 2597 2604 2611 2618 2632 2639 2646 2653 2667 2674 2681 2688 2702 2709 2716 2723 2737 2744 2751 2758 2772 2779 2786 2793 2807 2814 2821 2828 2842 2849 2856 2863 2877 2884 2891 2898 2912 2919 2926 2933 2947 2954 2961 2968 2982 2989 2996 3003 3017 3024 3031 3038 3052 3059 3066 3073 3087 3094 3101 3108 3122 3129 3136 3143 3157 3164 3171 3178 3192 3199 "
          ],
          "name": "stdout"
        }
      ]
    },
    {
      "cell_type": "code",
      "metadata": {
        "id": "ldjT0aOvlE8r"
      },
      "source": [
        "def fact(x):\n",
        "  if x == 0 :\n",
        "     return 1\n",
        "     return x * fact(x-1)\n",
        "     \n",
        "x=int(input())\n",
        "print(fact(x))"
      ],
      "execution_count": null,
      "outputs": []
    },
    {
      "cell_type": "code",
      "metadata": {
        "id": "oFih2a3K2sD-",
        "colab": {
          "base_uri": "https://localhost:8080/"
        },
        "outputId": "4cdd4a1f-8aea-4d40-cc83-e57da055326b"
      },
      "source": [
        "sentence=input(\"enter a sentence:\")\n",
        "sentence2=sentence[0:(len(sentence)):2] \n",
        "print(sentence2)\n",
        "\n"
      ],
      "execution_count": 3,
      "outputs": [
        {
          "output_type": "stream",
          "text": [
            "enter a sentence:hello team\n",
            "hlota\n"
          ],
          "name": "stdout"
        }
      ]
    },
    {
      "cell_type": "code",
      "metadata": {
        "id": "0_U9tXF4qa2w"
      },
      "source": [
        "n=float(input(\"donnerle prix:\"))\n",
        "if n > 500 :\n",
        "  print(n*0.5)\n",
        "elif 200<=n>500:\n",
        "   print(n*0.7)\n",
        "else:\n",
        "    print(n*0.9)"
      ],
      "execution_count": null,
      "outputs": []
    }
  ]
}