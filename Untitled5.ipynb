{
  "nbformat": 4,
  "nbformat_minor": 0,
  "metadata": {
    "colab": {
      "name": "Untitled5.ipynb",
      "provenance": []
    },
    "kernelspec": {
      "name": "python3",
      "display_name": "Python 3"
    },
    "language_info": {
      "name": "python"
    }
  },
  "cells": [
    {
      "cell_type": "code",
      "metadata": {
        "id": "VA9Q0Q9MCq0a",
        "colab": {
          "base_uri": "https://localhost:8080/"
        },
        "outputId": "b6688fe6-a69f-461f-a722-3bb14c3d8b27"
      },
      "source": [
        "class point3D(object):\n",
        "   def __init__(self,x,y,z):\n",
        "      self.x=x\n",
        "      self.y=y\n",
        "      self.z=z\n",
        "def __repr__(self):\n",
        "  return\"( %d, %d, %d)\" % (self.x,self.y,self.z)\n",
        "my_point =point3D(x=1,y=2,z=3)\n",
        "print(my_point.x,my_point.y,my_point.z)"
      ],
      "execution_count": 62,
      "outputs": [
        {
          "output_type": "stream",
          "text": [
            "1 2 3\n"
          ],
          "name": "stdout"
        }
      ]
    },
    {
      "cell_type": "code",
      "metadata": {
        "colab": {
          "base_uri": "https://localhost:8080/",
          "height": 132
        },
        "id": "guvdPbLC4KHA",
        "outputId": "b3aabe42-6124-48fe-d60a-6dfe632ed245"
      },
      "source": [
        "import math:\n",
        "class Circle():\n",
        "    def __init__(self, r):\n",
        "        self.radius = r\n",
        "    def area(self):\n",
        "        return self.radius**2*3.14\n",
        "    def perimeter(self):\n",
        "        return 2*self.radius*3.14\n",
        "NewCircle = Circle(8)\n",
        "print(NewCircle.area())\n",
        "print(NewCircle.perimeter())\n",
        "class point():\n",
        "  def  __init__(self,x2,y2):\n",
        "    self.x=y2\n",
        "    self.y=y2\n",
        "newpoint=point(2,1)\n",
        "dis=sqrt((4-2)**2+(2-1)**2)\n",
        "if NewCircle.radius>=dis:\n",
        "  print(\"yes!\")\n",
        "elif NewCircle.raduis<=dis:\n",
        "  print(\"no!\")\n"
      ],
      "execution_count": 5,
      "outputs": [
        {
          "output_type": "error",
          "ename": "SyntaxError",
          "evalue": "ignored",
          "traceback": [
            "\u001b[0;36m  File \u001b[0;32m\"<ipython-input-5-0b047afd1182>\"\u001b[0;36m, line \u001b[0;32m1\u001b[0m\n\u001b[0;31m    import math:\u001b[0m\n\u001b[0m               ^\u001b[0m\n\u001b[0;31mSyntaxError\u001b[0m\u001b[0;31m:\u001b[0m invalid syntax\n"
          ]
        }
      ]
    },
    {
      "cell_type": "code",
      "metadata": {
        "colab": {
          "base_uri": "https://localhost:8080/"
        },
        "id": "CuSgkaTOlXAE",
        "outputId": "5666dccd-cb47-4c64-9c6b-ddf00bf53eb6"
      },
      "source": [
        "class Rectangle:\n",
        "    def __init__(self, width, length):\n",
        "        self.length = length\n",
        "        self.width = width\n",
        "    def rectangle_area(self):\n",
        "        return (self.width + self.length)\n",
        "Rectangle_1 = Rectangle(3, 4)\n",
        "print (Rectangle_1.rectangle_area())"
      ],
      "execution_count": 59,
      "outputs": [
        {
          "output_type": "stream",
          "text": [
            "7\n"
          ],
          "name": "stdout"
        }
      ]
    },
    {
      "cell_type": "code",
      "metadata": {
        "colab": {
          "base_uri": "https://localhost:8080/"
        },
        "id": "SSNG5M2zzSgT",
        "outputId": "f37900b9-4580-475e-8c88-c83aa7a68c8d"
      },
      "source": [
        "class Rectangle:\n",
        "    def __init__(self, width, length):\n",
        "        self.length = length\n",
        "        self.width = width\n",
        "    def calculate_perimeter(self):\n",
        "        return 2 * (self.width + self.length)\n",
        "Rectangle_1 = Rectangle(3, 4)\n",
        "print (Rectangle_1.calculate_perimeter())"
      ],
      "execution_count": 57,
      "outputs": [
        {
          "output_type": "stream",
          "text": [
            "14\n"
          ],
          "name": "stdout"
        }
      ]
    },
    {
      "cell_type": "code",
      "metadata": {
        "colab": {
          "base_uri": "https://localhost:8080/"
        },
        "id": "rW1jJakuClTk",
        "outputId": "f223e640-bfb9-407b-a142-be6a928f98df"
      },
      "source": [
        "x=int(input(\"withdraw:\"))\n",
        "y=int(input(\"diposit:\"))\n",
        "class bank :\n",
        "  def __init__ (self, balance):\n",
        "    self.balance=balance\n",
        "  def deposit (self,a):\n",
        "    return self.balance+a\n",
        "  def withdraw (self,k):\n",
        "    return self.balance-k\n",
        "a=bank(500)\n",
        "print(a.balance+a.deposit(y))\n",
        "print(a.balance-a.withdraw(x))"
      ],
      "execution_count": 23,
      "outputs": [
        {
          "output_type": "stream",
          "text": [
            "withdraw:1000\n",
            "diposit:700\n",
            "1700\n",
            "1000\n"
          ],
          "name": "stdout"
        }
      ]
    }
  ]
}